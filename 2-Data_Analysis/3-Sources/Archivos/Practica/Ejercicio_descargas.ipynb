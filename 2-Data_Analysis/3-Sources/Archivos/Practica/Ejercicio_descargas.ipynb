{
 "cells": [
  {
   "attachments": {},
   "cell_type": "markdown",
   "metadata": {},
   "source": [
    "## Ejercicio descargas"
   ]
  },
  {
   "attachments": {},
   "cell_type": "markdown",
   "metadata": {},
   "source": [
    "Python es un lenguaje de propósito general, por lo que podemos desarrollar otros programas,\n",
    "aparte de ciencia de datos, que nos permitan montar dashboards, crear APIs o automatizar\n",
    "procesos. En este caso vas a automatizar un proceso, en el que tendrás que desarrollar un\n",
    "script que ordene todos los archivos de una carpeta, dependiendo de la extensión de los\n",
    "mismos.\n",
    "\n",
    "\n",
    "El objetivo es ordenar la típica carpeta de cajón desastre donde se nos acumulan archivos de\n",
    "todos los formatos como: imágenes, words, presentaciones, excels, ejecutables, zips, etc... Y\n",
    "que no vamos a ir viendo archivo a archivo, ordenándolos.... La solución suele ser eliminarlo\n",
    "todo. Vamos a intentar no tener que llegar a eso, ordenando los ficheros automáticamente en\n",
    "carpetas y revisar las que nos interesen. La típica carpeta donde aplicaríamos este programa es\n",
    "la de “Descargas”, donde se suelen acumular muchos archivos temporales.\n",
    "\n",
    "\n",
    "Por tanto, **el programa tiene que guardar los archivos de la carpeta “Descargas” (o cualquier\n",
    "otra donde acumules mucho archivo temporal) en los siguientes directorios dentro de la\n",
    "propia carpeta “Descargas”**:\n",
    "- Imagenes\n",
    "- Documentos\n",
    "- Software\n",
    "- Otros\n",
    "\n",
    "Cada vez que ejecutes el script, automáticamente se ordenarán todos los archivos en sus\n",
    "correspondientes carpetas.\n"
   ]
  },
  {
   "cell_type": "code",
   "execution_count": 10,
   "metadata": {},
   "outputs": [],
   "source": [
    "doc_types = ('.doc', '.docx', '.txt', '.pdf', '.xls', '.ppt', '.xlsx', '.pptx')\n",
    "img_types = ('.jpg', '.jpeg', '.png', '.svg', '.gif', '.tif', '.tiff')\n",
    "software_types = ('.exe', '.pkg', '.dmg')"
   ]
  },
  {
   "attachments": {},
   "cell_type": "markdown",
   "metadata": {},
   "source": [
    "### 1. Crea un main.py con el programa principal y las funciones necesarias en funciones.py"
   ]
  },
  {
   "cell_type": "code",
   "execution_count": 1,
   "metadata": {},
   "outputs": [],
   "source": [
    "import os\n",
    "import shutil"
   ]
  },
  {
   "cell_type": "code",
   "execution_count": 2,
   "metadata": {},
   "outputs": [
    {
     "data": {
      "text/plain": [
       "'c:\\\\Users\\\\Miguel Angel\\\\Documents\\\\23_04_Bootcamp_DS\\\\2304_dsft_thebridge\\\\2-Data_Analysis\\\\3-Sources\\\\Archivos\\\\Practica'"
      ]
     },
     "execution_count": 2,
     "metadata": {},
     "output_type": "execute_result"
    }
   ],
   "source": [
    "os.getcwd()"
   ]
  },
  {
   "cell_type": "code",
   "execution_count": 4,
   "metadata": {},
   "outputs": [
    {
     "data": {
      "text/plain": [
       "['descargas_test', 'Ejercicio_descargas.ipynb']"
      ]
     },
     "execution_count": 4,
     "metadata": {},
     "output_type": "execute_result"
    }
   ],
   "source": [
    "os.listdir()"
   ]
  },
  {
   "cell_type": "code",
   "execution_count": 5,
   "metadata": {},
   "outputs": [
    {
     "data": {
      "text/plain": [
       "'c:\\\\Users\\\\Miguel Angel\\\\Documents\\\\23_04_Bootcamp_DS\\\\2304_dsft_thebridge\\\\2-Data_Analysis\\\\3-Sources\\\\Archivos\\\\Practica/descargas_test'"
      ]
     },
     "execution_count": 5,
     "metadata": {},
     "output_type": "execute_result"
    }
   ],
   "source": [
    "ruta = os.getcwd() + \"/descargas_test\"\n",
    "ruta"
   ]
  },
  {
   "cell_type": "code",
   "execution_count": 6,
   "metadata": {},
   "outputs": [],
   "source": [
    "os.chdir(ruta)"
   ]
  },
  {
   "cell_type": "code",
   "execution_count": 7,
   "metadata": {},
   "outputs": [
    {
     "data": {
      "text/plain": [
       "'c:\\\\Users\\\\Miguel Angel\\\\Documents\\\\23_04_Bootcamp_DS\\\\2304_dsft_thebridge\\\\2-Data_Analysis\\\\3-Sources\\\\Archivos\\\\Practica\\\\descargas_test'"
      ]
     },
     "execution_count": 7,
     "metadata": {},
     "output_type": "execute_result"
    }
   ],
   "source": [
    "os.getcwd()"
   ]
  },
  {
   "cell_type": "code",
   "execution_count": 8,
   "metadata": {},
   "outputs": [
    {
     "data": {
      "text/plain": [
       "['Intro_bootcamp_23_04_DS_FT.pdf',\n",
       " 'python-3.11.3-amd64.exe',\n",
       " 'README.md',\n",
       " 'TheBridge_logo.png']"
      ]
     },
     "execution_count": 8,
     "metadata": {},
     "output_type": "execute_result"
    }
   ],
   "source": [
    "os.listdir()"
   ]
  },
  {
   "cell_type": "code",
   "execution_count": 15,
   "metadata": {},
   "outputs": [
    {
     "name": "stdout",
     "output_type": "stream",
     "text": [
      "Intro_bootcamp_23_04_DS_FT.pdf es un documento\n"
     ]
    }
   ],
   "source": [
    "for archivo in os.listdir():\n",
    "    if archivo.endswith(doc_types):\n",
    "        print(archivo, \"es un documento\")"
   ]
  },
  {
   "cell_type": "code",
   "execution_count": 13,
   "metadata": {},
   "outputs": [],
   "source": [
    "os.makedirs(\"Imagenes\", exist_ok=True)\n",
    "os.makedirs(\"Documentos\", exist_ok=True)\n",
    "os.makedirs(\"Softwares\", exist_ok=True)\n",
    "os.makedirs(\"Otros\", exist_ok=True)"
   ]
  },
  {
   "cell_type": "code",
   "execution_count": 14,
   "metadata": {},
   "outputs": [
    {
     "data": {
      "text/plain": [
       "'Otros\\\\README.md'"
      ]
     },
     "execution_count": 14,
     "metadata": {},
     "output_type": "execute_result"
    }
   ],
   "source": [
    "shutil.move(\"README.md\", \"Otros\")"
   ]
  },
  {
   "cell_type": "code",
   "execution_count": 16,
   "metadata": {},
   "outputs": [
    {
     "data": {
      "text/plain": [
       "['Documentos',\n",
       " 'Imagenes',\n",
       " 'Intro_bootcamp_23_04_DS_FT.pdf',\n",
       " 'Otros',\n",
       " 'python-3.11.3-amd64.exe',\n",
       " 'Softwares',\n",
       " 'TheBridge_logo.png']"
      ]
     },
     "execution_count": 16,
     "metadata": {},
     "output_type": "execute_result"
    }
   ],
   "source": [
    "os.listdir()"
   ]
  },
  {
   "cell_type": "code",
   "execution_count": 18,
   "metadata": {},
   "outputs": [
    {
     "name": "stdout",
     "output_type": "stream",
     "text": [
      "Documentos es una carpeta\n",
      "Imagenes es una carpeta\n",
      "Intro_bootcamp_23_04_DS_FT.pdf es un documento\n",
      "Otros es una carpeta\n",
      "Softwares es una carpeta\n"
     ]
    }
   ],
   "source": [
    "for archivo in os.listdir():\n",
    "    if os.path.isdir(archivo):\n",
    "        print(archivo, \"es una carpeta\")\n",
    "    elif archivo.endswith(doc_types):\n",
    "        print(archivo, \"es un documento\")\n",
    "        shutil.move(archivo, \"Documentos\")"
   ]
  },
  {
   "cell_type": "code",
   "execution_count": 19,
   "metadata": {},
   "outputs": [],
   "source": [
    "def select_dir(carpeta):\n",
    "    os.chdir(carpeta)\n",
    "\n",
    "def create_dirs():\n",
    "    os.makedirs(\"Imagenes\", exist_ok=True)\n",
    "    os.makedirs(\"Documentos\", exist_ok=True)\n",
    "    os.makedirs(\"Softwares\", exist_ok=True)\n",
    "    os.makedirs(\"Otros\", exist_ok=True)\n",
    "\n",
    "def move_files():\n",
    "    for archivo in os.listdir():\n",
    "        if os.path.isdir(archivo):\n",
    "            print(archivo, \"es una carpeta\")\n",
    "        elif archivo.endswith(doc_types):\n",
    "            print(archivo, \"es un documento\")\n",
    "            shutil.move(archivo, \"Documentos\")\n",
    "        elif archivo.endswith(img_types):\n",
    "            print(archivo, \"es una imagen\")\n",
    "            shutil.move(archivo, \"Imagenes\")\n",
    "        elif archivo.endswith(software_types):\n",
    "            print(archivo, \"es un software\")\n",
    "            shutil.move(archivo, \"Softwares\")\n",
    "        else:\n",
    "            print(archivo, \"es otro tipo de extension\")\n",
    "            shutil.move(archivo, \"Otros\")\n",
    "            "
   ]
  },
  {
   "cell_type": "code",
   "execution_count": 20,
   "metadata": {},
   "outputs": [
    {
     "name": "stdout",
     "output_type": "stream",
     "text": [
      "Documentos es una carpeta\n",
      "Imagenes es una carpeta\n",
      "Intro_bootcamp_23_04_DS_FT.pdf es un documento\n",
      "Otros es una carpeta\n",
      "python-3.11.3-amd64.exe es un software\n",
      "README.md es otro tipo de extension\n",
      "Softwares es una carpeta\n",
      "TheBridge_logo.png es una imagen\n"
     ]
    }
   ],
   "source": [
    "# select_dir(carpeta)\n",
    "create_dirs()\n",
    "move_files()"
   ]
  },
  {
   "attachments": {},
   "cell_type": "markdown",
   "metadata": {},
   "source": [
    "### 2. Crea un main_class.py con el programa principal y su clase \"Fichero\" en clase.py"
   ]
  },
  {
   "cell_type": "code",
   "execution_count": 22,
   "metadata": {},
   "outputs": [],
   "source": [
    "class Fichero:\n",
    "\n",
    "    def __init__(self, carpeta, extensions, ruta):\n",
    "        self.carpeta = carpeta\n",
    "        self.extensions = extensions\n",
    "        self.ruta = ruta\n",
    "        self.select_dir()\n",
    "        self.create_dir()\n",
    "        self.move_file()\n",
    "\n",
    "\n",
    "    def select_dir(self):\n",
    "        os.chdir(self.ruta)\n",
    "\n",
    "    def create_dir(self):\n",
    "        os.makedirs(self.carpeta, exist_ok=True)\n",
    "\n",
    "    def move_file(self):\n",
    "        for archivo in os.listdir():\n",
    "            if os.path.isdir(archivo):\n",
    "                print(archivo, \"es una carpeta\")\n",
    "            elif self.extensions==None or archivo.endswith(self.extensions):\n",
    "                shutil.move(archivo, self.carpeta)"
   ]
  },
  {
   "cell_type": "code",
   "execution_count": 25,
   "metadata": {},
   "outputs": [
    {
     "name": "stdout",
     "output_type": "stream",
     "text": [
      "Documentos es una carpeta\n",
      "Documentos es una carpeta\n",
      "Imagenes es una carpeta\n",
      "Documentos es una carpeta\n",
      "Imagenes es una carpeta\n",
      "Software es una carpeta\n",
      "Documentos es una carpeta\n",
      "Imagenes es una carpeta\n",
      "Otros es una carpeta\n",
      "Software es una carpeta\n"
     ]
    }
   ],
   "source": [
    "ruta = os.getcwd()\n",
    "\n",
    "documentos = Fichero(\"Documentos\", doc_types, ruta)\n",
    "imagenes = Fichero(\"Imagenes\", img_types, ruta)\n",
    "softwares = Fichero(\"Software\", software_types, ruta)\n",
    "otros = Fichero(\"Otros\", None, ruta)"
   ]
  }
 ],
 "metadata": {
  "kernelspec": {
   "display_name": "Python 3.7.4 64-bit",
   "language": "python",
   "name": "python3"
  },
  "language_info": {
   "codemirror_mode": {
    "name": "ipython",
    "version": 3
   },
   "file_extension": ".py",
   "mimetype": "text/x-python",
   "name": "python",
   "nbconvert_exporter": "python",
   "pygments_lexer": "ipython3",
   "version": "3.7.4"
  },
  "orig_nbformat": 4,
  "vscode": {
   "interpreter": {
    "hash": "90139cb9a825bf3d63f6f6704e828dbd1ff7edbd4d0c6e906a71235d6efc74af"
   }
  }
 },
 "nbformat": 4,
 "nbformat_minor": 2
}
