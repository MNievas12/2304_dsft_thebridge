{
 "cells": [
  {
   "cell_type": "markdown",
   "metadata": {},
   "source": [
    "![imagen](./img/ejercicios.png)"
   ]
  },
  {
   "cell_type": "markdown",
   "metadata": {},
   "source": [
    "# Ejercicios funciones\n",
    "## Ejercicio 1\n",
    "Escribe una función que convierta números del 1 al 7 en nombres de los dias de la semana. La función constará de un único argumento numérico y una salida de tipo string"
   ]
  },
  {
   "cell_type": "code",
   "execution_count": 5,
   "metadata": {},
   "outputs": [
    {
     "name": "stdout",
     "output_type": "stream",
     "text": [
      "Día de la semana erróneo\n"
     ]
    }
   ],
   "source": [
    "dia = 12\n",
    "\n",
    "if dia == 1:\n",
    "    out = \"Lunes\"\n",
    "elif dia == 2:\n",
    "    out = \"Martes\"\n",
    "elif dia == 3:\n",
    "    out = \"Miércoles\"\n",
    "elif dia == 4:\n",
    "    out = \"Jueves\"\n",
    "elif dia == 5:\n",
    "    out = \"Viernes\"\n",
    "elif dia == 6:\n",
    "    out = \"Sábado\"\n",
    "elif dia == 7:\n",
    "    out = \"Domingo\"\n",
    "else:\n",
    "    out = \"Día de la semana erróneo\"\n",
    "\n",
    "print(out)"
   ]
  },
  {
   "cell_type": "code",
   "execution_count": 15,
   "metadata": {},
   "outputs": [],
   "source": [
    "def dia_semana(dia:int):\n",
    "    if dia == 1:\n",
    "        out = \"Lunes\"\n",
    "    elif dia == 2:\n",
    "        out = \"Martes\"\n",
    "    elif dia == 3:\n",
    "        out = \"Miércoles\"\n",
    "    elif dia == 4:\n",
    "        out = \"Jueves\"\n",
    "    elif dia == 5:\n",
    "        out = \"Viernes\"\n",
    "    elif dia == 6:\n",
    "        out = \"Sábado\"\n",
    "    elif dia == 7:\n",
    "        out = \"Domingo\"\n",
    "    else:\n",
    "        out = \"Día de la semana erróneo\"\n",
    "    return out"
   ]
  },
  {
   "cell_type": "code",
   "execution_count": 17,
   "metadata": {},
   "outputs": [
    {
     "name": "stdout",
     "output_type": "stream",
     "text": [
      "Jueves\n"
     ]
    }
   ],
   "source": [
    "dia_str = dia_semana(4)\n",
    "print(dia_str)"
   ]
  },
  {
   "cell_type": "code",
   "execution_count": 18,
   "metadata": {},
   "outputs": [
    {
     "name": "stdout",
     "output_type": "stream",
     "text": [
      "Jueves\n"
     ]
    }
   ],
   "source": [
    "def dia_semana(dia:int):\n",
    "    dias_semana = [\"Lunes\",\"Martes\",\"Miércoles\",\"Jueves\",\"Viernes\",\"Sábado\",\"Domingo\"]\n",
    "    return dias_semana[dia - 1]\n",
    "\n",
    "dia_str = dia_semana(4)\n",
    "print(dia_str)"
   ]
  },
  {
   "cell_type": "code",
   "execution_count": 19,
   "metadata": {},
   "outputs": [
    {
     "name": "stdout",
     "output_type": "stream",
     "text": [
      "Jueves\n"
     ]
    }
   ],
   "source": [
    "def dia_semana(dia:int):\n",
    "    dias_semana = {1:\"Lunes\",2:\"Martes\",3:\"Miércoles\",4:\"Jueves\",5:\"Viernes\",6:\"Sábado\",7:\"Domingo\"}\n",
    "    return dias_semana[dia]\n",
    "\n",
    "dia_str = dia_semana(4)\n",
    "print(dia_str)"
   ]
  },
  {
   "cell_type": "code",
   "execution_count": 21,
   "metadata": {},
   "outputs": [
    {
     "name": "stdout",
     "output_type": "stream",
     "text": [
      "Jueves\n"
     ]
    }
   ],
   "source": [
    "def dia_semana(dia:int):\n",
    "    dias_semana = [\"Lunes\",\"Martes\",\"Miércoles\",\"Jueves\",\"Viernes\",\"Sábado\",\"Domingo\"]\n",
    "    for i, valor in enumerate(dias_semana):\n",
    "        if i == (dia-1):\n",
    "            out = valor\n",
    "    return out\n",
    "\n",
    "dia_str = dia_semana(4)\n",
    "print(dia_str)"
   ]
  },
  {
   "cell_type": "markdown",
   "metadata": {},
   "source": [
    "## Ejercicio 2\n",
    "En el ejercicio 8 de flujos de control, creábamos una pirámide invertida de números desde el 5. Crea una función que replique el comportamiento de la pirámide, y utiliza un único parámetro de entrada de la función para determinar el número de filas de la pirámide."
   ]
  },
  {
   "cell_type": "code",
   "execution_count": 26,
   "metadata": {},
   "outputs": [],
   "source": [
    "def piramide(n:int):\n",
    "    lista_8 = list(range(n,0,-1))\n",
    "    print(lista_8)\n",
    "\n",
    "    while len(lista_8) > 0:\n",
    "        print(*lista_8)\n",
    "        lista_8.pop(0)"
   ]
  },
  {
   "cell_type": "code",
   "execution_count": 32,
   "metadata": {},
   "outputs": [
    {
     "name": "stdout",
     "output_type": "stream",
     "text": [
      "[10, 9, 8, 7, 6, 5, 4, 3, 2, 1]\n",
      "10 9 8 7 6 5 4 3 2 1\n",
      "9 8 7 6 5 4 3 2 1\n",
      "8 7 6 5 4 3 2 1\n",
      "7 6 5 4 3 2 1\n",
      "6 5 4 3 2 1\n",
      "5 4 3 2 1\n",
      "4 3 2 1\n",
      "3 2 1\n",
      "2 1\n",
      "1\n"
     ]
    }
   ],
   "source": [
    "piramide(10)"
   ]
  },
  {
   "cell_type": "markdown",
   "metadata": {},
   "source": [
    "## Ejercicio 3\n",
    "Escribe una función que compare dos números. La función tiene dos argumentos y hay tres salidas posibles: que sean iguales, que el primero sea  mayor que el segundo, o que el segundo sea mayor que el primero"
   ]
  },
  {
   "cell_type": "code",
   "execution_count": 15,
   "metadata": {},
   "outputs": [
    {
     "name": "stdout",
     "output_type": "stream",
     "text": [
      "El primer número 3 es mayor al segundo 1\n"
     ]
    }
   ],
   "source": [
    "num_1 = 3\n",
    "num_2 = 1\n",
    "\n",
    "if num_1 == num_2:\n",
    "    msg = \"Son iguales\"\n",
    "elif num_1 > num_2:\n",
    "    msg = \"El primer número \" + str(num_1) + \" es mayor al segundo \" + str(num_2) \n",
    "else:\n",
    "    msg = \"El segundo número \" + str(num_2) + \" es mayor al primero \" + str(num_1) \n",
    "\n",
    "print(msg)"
   ]
  },
  {
   "cell_type": "code",
   "execution_count": 22,
   "metadata": {},
   "outputs": [],
   "source": [
    "def ejercicio_3(n_1, n_2):\n",
    "    if n_1 == n_2:\n",
    "        msg = \"Son iguales\"\n",
    "    elif n_1 > n_2:\n",
    "        msg = \"El primer número \" + str(n_1) + \" es mayor al segundo \" + str(n_2) \n",
    "    else:\n",
    "        msg = \"El segundo número \" + str(n_2) + \" es mayor al primero \" + str(n_1) \n",
    "    return msg"
   ]
  },
  {
   "cell_type": "code",
   "execution_count": 23,
   "metadata": {},
   "outputs": [
    {
     "name": "stdout",
     "output_type": "stream",
     "text": [
      "El primer número 6 es mayor al segundo 3\n"
     ]
    }
   ],
   "source": [
    "print(ejercicio_3(6,3))\n",
    "# print(ejercicio_3(int(input()),int(input())))"
   ]
  },
  {
   "attachments": {},
   "cell_type": "markdown",
   "metadata": {},
   "source": [
    "## Ejercicio 4\n",
    "Escribe una función que sea un contador de letras. En el primer argumento tienes que introducir un texto, y el segundo que sea una letra que contar. La función tiene que devolver un entero con el número de veces que aparece esa letra, tanto mayúscula, como minúscula"
   ]
  },
  {
   "cell_type": "code",
   "execution_count": 26,
   "metadata": {},
   "outputs": [
    {
     "name": "stdout",
     "output_type": "stream",
     "text": [
      "2\n"
     ]
    }
   ],
   "source": [
    "new_var = \"Hola mundo\".count(\"o\")\n",
    "print(new_var)"
   ]
  },
  {
   "cell_type": "code",
   "execution_count": 34,
   "metadata": {},
   "outputs": [],
   "source": [
    "def ejercicio_4(texto, letra):\n",
    "    texto = texto.lower().replace('é','e')\n",
    "    return texto.count(letra)"
   ]
  },
  {
   "cell_type": "code",
   "execution_count": 36,
   "metadata": {},
   "outputs": [
    {
     "name": "stdout",
     "output_type": "stream",
     "text": [
      "7\n"
     ]
    }
   ],
   "source": [
    "print(ejercicio_4(\"Érase una vez... bienvenidos al séptimo día del bootcamp\", \"e\"))"
   ]
  },
  {
   "cell_type": "markdown",
   "metadata": {},
   "source": [
    "## Ejercicio 5\n",
    "Escribe una función que tenga un único argumento, un string. La salida de la función tiene que ser un diccionario con el conteo de todas las letras de ese string, siendo la clave la letra y el valor el conteo."
   ]
  },
  {
   "cell_type": "code",
   "execution_count": 38,
   "metadata": {},
   "outputs": [
    {
     "name": "stdout",
     "output_type": "stream",
     "text": [
      "{'e': 3, 's': 3, 't': 2, 'a': 4, 'm': 3, 'o': 3, ' ': 6, 'n': 2, 'u': 1, 'd': 2, 'i': 1, 'l': 1, 'b': 1, 'c': 1, 'p': 1}\n"
     ]
    }
   ],
   "source": [
    "dict_5 = {}\n",
    "\n",
    "texto = \"Estamos en un día más del bootcamp\".lower()\n",
    "texto = texto.replace(\"á\", \"a\")\n",
    "texto = texto.replace(\"í\", \"i\")\n",
    "\n",
    "for letra in texto:\n",
    "    dict_5[letra] = texto.count(letra)\n",
    "\n",
    "print(dict_5)"
   ]
  },
  {
   "cell_type": "code",
   "execution_count": 41,
   "metadata": {},
   "outputs": [],
   "source": [
    "def contador_letras(texto):\n",
    "    dict_5 = {}\n",
    "\n",
    "    texto = texto.lower()\n",
    "    texto = texto.replace(\"á\", \"a\")\n",
    "    texto = texto.replace(\"é\", \"e\")\n",
    "    texto = texto.replace(\"í\", \"i\")\n",
    "    texto = texto.replace(\"ó\", \"o\")\n",
    "    texto = texto.replace(\"ú\", \"u\")\n",
    "\n",
    "\n",
    "    for letra in texto:\n",
    "        if letra != \" \":\n",
    "            dict_5[letra] = texto.count(letra)\n",
    "\n",
    "    return dict_5"
   ]
  },
  {
   "cell_type": "code",
   "execution_count": 42,
   "metadata": {},
   "outputs": [
    {
     "name": "stdout",
     "output_type": "stream",
     "text": [
      "{'e': 8, 's': 3, 'c': 2, 'r': 2, 'i': 6, 'b': 1, 'u': 4, 'n': 7, 'a': 6, 'f': 1, 'o': 3, 'q': 1, 'ñ': 1, 'd': 1, 'l': 3, 'm': 2, 't': 2, '.': 1}\n"
     ]
    }
   ],
   "source": [
    "print(contador_letras(\"Escribir una función que añada o elimine elementos en una lista.\"))"
   ]
  },
  {
   "cell_type": "markdown",
   "metadata": {},
   "source": [
    "## Ejercicio 6\n",
    "Escribir una función que añada o elimine elementos en una lista. La función necesita los siguientes argumentos:\n",
    "* lista: la lista donde se añadirán o eliminarán los elementos\n",
    "* comando: \"add\" o \"remove\"\n",
    "* elemento: Por defecto es None.\n",
    "\n",
    "Tendrá como salida la lista"
   ]
  },
  {
   "cell_type": "code",
   "execution_count": 47,
   "metadata": {},
   "outputs": [],
   "source": [
    "lista = [1,2,3]\n",
    "comando = \"remove\"\n",
    "elemento = None"
   ]
  },
  {
   "cell_type": "code",
   "execution_count": 49,
   "metadata": {},
   "outputs": [
    {
     "name": "stdout",
     "output_type": "stream",
     "text": [
      "No se encuentra el elemento en la lista\n",
      "[1, 2, 3]\n"
     ]
    }
   ],
   "source": [
    "if comando == \"add\":\n",
    "    lista.append(elemento)\n",
    "elif comando == \"remove\":\n",
    "    try:\n",
    "        lista.remove(elemento)\n",
    "    except:\n",
    "        print(\"No se encuentra el elemento en la lista\")\n",
    "else:\n",
    "    print(\"Comando erroneo\")\n",
    "\n",
    "print(lista)"
   ]
  },
  {
   "cell_type": "code",
   "execution_count": 52,
   "metadata": {},
   "outputs": [],
   "source": [
    "def ejercicio_6(lista, comando, elemento=None):\n",
    "    if comando == \"add\":\n",
    "        lista.append(elemento)\n",
    "    elif comando == \"remove\":\n",
    "        try:\n",
    "            lista.remove(elemento)\n",
    "        except:\n",
    "            print(\"No se encuentra el elemento en la lista\")\n",
    "    else:\n",
    "        print(\"Comando erroneo\")\n",
    "\n",
    "    return lista"
   ]
  },
  {
   "cell_type": "code",
   "execution_count": 57,
   "metadata": {},
   "outputs": [
    {
     "name": "stdout",
     "output_type": "stream",
     "text": [
      "[1, 2, 3, 4, 5]\n"
     ]
    }
   ],
   "source": [
    "result = ejercicio_6([1,2,3,4,5],\"add\",7)\n",
    "result = ejercicio_6(result,\"remove\",7)\n",
    "print(result)"
   ]
  },
  {
   "cell_type": "markdown",
   "metadata": {},
   "source": [
    "## Ejercicio 7\n",
    "Crea una función que reciba un número arbitrario de palabras, y devuelva una frase completa, separando las palabras con espacios."
   ]
  },
  {
   "cell_type": "code",
   "execution_count": 58,
   "metadata": {},
   "outputs": [
    {
     "data": {
      "text/plain": [
       "'hola mundo'"
      ]
     },
     "execution_count": 58,
     "metadata": {},
     "output_type": "execute_result"
    }
   ],
   "source": [
    "\" \".join([\"hola\",'mundo'])"
   ]
  },
  {
   "cell_type": "code",
   "execution_count": 59,
   "metadata": {},
   "outputs": [],
   "source": [
    "def ejercicio_7(*args):\n",
    "    return \" \".join(args)"
   ]
  },
  {
   "cell_type": "code",
   "execution_count": 65,
   "metadata": {},
   "outputs": [
    {
     "name": "stdout",
     "output_type": "stream",
     "text": [
      "Hola bootcamp cómo estáis\n"
     ]
    }
   ],
   "source": [
    "print(ejercicio_7(\"Hola\", \"bootcamp\", \"cómo\", \"estáis\"))"
   ]
  },
  {
   "cell_type": "markdown",
   "metadata": {},
   "source": [
    "## Ejercicio 8\n",
    "Escribe un programa que obtenga el enésimo número de la [serie de Fibonacci](https://es.wikipedia.org/wiki/Sucesi%C3%B3n_de_Fibonacci). Tienes que crear una función recursiva con un único argumento.\n",
    "\n",
    "```Python\n",
    "fibonacci(2) = 1\n",
    "fibonacci(4) = 3\n",
    "fibonacci(5) = 5\n",
    "fibonacci(8) = 21\n",
    "```"
   ]
  },
  {
   "attachments": {},
   "cell_type": "markdown",
   "metadata": {},
   "source": [
    "fibonacci(n) = fibonacci(n-1) + fibonacci(n-2)"
   ]
  },
  {
   "cell_type": "code",
   "execution_count": 67,
   "metadata": {},
   "outputs": [],
   "source": [
    "def fibonacci(n):\n",
    "    if n == 0:\n",
    "        return n\n",
    "    if n == 1:\n",
    "        return n\n",
    "    return fibonacci(n-1) + fibonacci(n-2)"
   ]
  },
  {
   "cell_type": "code",
   "execution_count": 75,
   "metadata": {},
   "outputs": [
    {
     "data": {
      "text/plain": [
       "21"
      ]
     },
     "execution_count": 75,
     "metadata": {},
     "output_type": "execute_result"
    }
   ],
   "source": [
    "# fibonacci(3) = fibonacci(2) + fibonacci(1) = fibonacci(1) + fibonacci(0) + fibonacci(1) = 1 + 0 + 1 = 2\n",
    "fibonacci(8)"
   ]
  },
  {
   "attachments": {},
   "cell_type": "markdown",
   "metadata": {},
   "source": [
    "## Ejercicio 9\n",
    "Define en una única celda las siguientes funciones:\n",
    "* Función que calcule el área de un cuadrado\n",
    "* Función que calcule el área de un triángulo\n",
    "* Función que calcule el área de un círculo\n",
    "\n",
    "En otra celda, calcular el area de:\n",
    "* Dos círculos de radio 10 + un triángulo de base 3 y altura 7\n",
    "* Un cuadrado de lado = 10 + 3 círculos (uno de radio = 4 y los otros dos de radio = 6) + 5 triángulos de base = 2 + altura = 4"
   ]
  },
  {
   "cell_type": "code",
   "execution_count": 76,
   "metadata": {},
   "outputs": [],
   "source": [
    "import math"
   ]
  },
  {
   "cell_type": "code",
   "execution_count": 78,
   "metadata": {},
   "outputs": [],
   "source": [
    "def cuadrado(l):\n",
    "    return l * l\n",
    "\n",
    "def triangulo(b, a):\n",
    "    return b*a/2\n",
    "\n",
    "def circulo(r):\n",
    "    return math.pi * r**2"
   ]
  },
  {
   "cell_type": "code",
   "execution_count": 80,
   "metadata": {},
   "outputs": [
    {
     "name": "stdout",
     "output_type": "stream",
     "text": [
      "638.8185307179587\n",
      "396.46015351590177\n"
     ]
    }
   ],
   "source": [
    "print(2 * circulo(10) + triangulo(3,7))\n",
    "print(cuadrado(10) + circulo(4) + 2 * circulo(6) + 5 * triangulo(2,4))"
   ]
  }
 ],
 "metadata": {
  "kernelspec": {
   "display_name": "Python 3.7.4 64-bit",
   "language": "python",
   "name": "python3"
  },
  "language_info": {
   "codemirror_mode": {
    "name": "ipython",
    "version": 3
   },
   "file_extension": ".py",
   "mimetype": "text/x-python",
   "name": "python",
   "nbconvert_exporter": "python",
   "pygments_lexer": "ipython3",
   "version": "3.7.4"
  },
  "vscode": {
   "interpreter": {
    "hash": "90139cb9a825bf3d63f6f6704e828dbd1ff7edbd4d0c6e906a71235d6efc74af"
   }
  }
 },
 "nbformat": 4,
 "nbformat_minor": 4
}
