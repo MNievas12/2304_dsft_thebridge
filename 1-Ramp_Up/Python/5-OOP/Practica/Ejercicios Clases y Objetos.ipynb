{
 "cells": [
  {
   "cell_type": "markdown",
   "metadata": {},
   "source": [
    "![imagen](./img/ejercicios.png)\n",
    "\n",
    "# Ejercicios Clases y Objetos"
   ]
  },
  {
   "attachments": {},
   "cell_type": "markdown",
   "metadata": {},
   "source": [
    "## Ejercicio 1\n",
    "Somos una empresa que tiene varias tiendas de electrodomésticos. Necesitamos un programa para manejar las tiendas, ver las ventas que han tenido, cuántos empleados hay, etc... Para ello vamos a modelizar la tienda en una clase, que tendrá las siguientes características:\n",
    "* Nombre clase: \"Tienda\"\n",
    "* Atributos comunes:\n",
    "    * Tipo: \"Electrodomésticos\"\n",
    "    * Abierta: True\n",
    "* Atributos propios de cada tienda:\n",
    "    * Nombre - String\n",
    "    * Dirección - String\n",
    "    * Número de empleados - int\n",
    "    * Ventas últimos 3 meses - Lista de 3 numeros\n",
    "* Método para calcular las ventas de todos los meses, que devuelva un número con todas las ventas.\n",
    "* Método que calcula la media de ventas de los últimos meses, por empleado\n",
    "* Método que devuelve en un string el nombre de la tienda, junto con su dirección.\n",
    "* Método que obtiene las ventas del último mes.\n",
    "* Método para dar una proyección de las ventas en caso de haber invertido X dinero en marketing en esa tienda. Siendo X el parámetro de entrada. Si X es menor de 1000, las ventas de los ultimos 3 meses hubiesen sido de (1.2 x ventas), si es mayor o igual de 1000, las ventas hubiesen sido de (1.5 x venta). El método reescribe el atributo de ventas en los últimos 3 meses, y además devuelve las ventas con el aumento.\n",
    "\n",
    "Se pide:\n",
    "1. Implementar la clase \"Tienda\"\n",
    "2. Crear tres tiendas con datos inventados\n",
    "3. Comprueba en al menos una de ellas, todo lo implementado en la clase tienda (sus atributos, media de ventas, ventas/empleado...)\n",
    "3. Calcular las ventas del último mes de todas las tiendas. Para ello usa el bucle `for`\n",
    "4. Imprime por pantalla los nombres de las tiendas cuya dirección lleve el string \"Avenida\"\n",
    "5. Seguro que ya has hecho este apartado... Documenta la clase :)"
   ]
  },
  {
   "cell_type": "code",
   "execution_count": 12,
   "metadata": {},
   "outputs": [],
   "source": [
    "class Tienda:    \n",
    "    \"\"\"\n",
    "    Clase tienda para empresa de electrodoméstico\n",
    "\n",
    "    Attributes:\n",
    "        tipo (str): tipo de producto de ventas\n",
    "        abierta (bool): indica si está abierta o en mantenimiento\n",
    "\n",
    "    \"\"\"\n",
    "    tipo = \"electrodomésticos\"\n",
    "    abierta = True\n",
    "\n",
    "    def __init__(self, nombre:str, direccion:str, n_emp:int, ventas_3m:list, act:bool=False):\n",
    "        \"\"\"\n",
    "        Atributos particulares a cada tienda\n",
    "        Args:\n",
    "            nombre (str): Nombre de la tienda\n",
    "            direccion (str): Dirección de la tienda\n",
    "            n_emp (int): Número de empleados en la tienda\n",
    "            ventas_3m (list): Lista de las ventas de los últimos 3 meses\n",
    "            act (bool): Bandera para controlar si la proyección de ventas ha sido actualizada.\n",
    "\n",
    "        \"\"\"\n",
    "        self.nombre = nombre\n",
    "        self.direccion = direccion\n",
    "        self.n_emp = n_emp\n",
    "        self.ventas_3m = ventas_3m\n",
    "        self.act = act\n",
    "        # self.print_info()\n",
    "        # print(\"Hola mundo\")\n",
    "\n",
    "    def total_ventas(self):\n",
    "        '''\n",
    "        Calcula ventas totales\n",
    "\n",
    "        Returns:\n",
    "            float\n",
    "        '''\n",
    "        return sum(self.ventas_3m)\n",
    "    \n",
    "    def media_ventas(self):\n",
    "        '''\n",
    "        Calcula media de ventas totales por empleado\n",
    "\n",
    "        Returns:\n",
    "            float\n",
    "        '''\n",
    "        return sum(self.ventas_3m)/self.n_emp\n",
    "    \n",
    "    def print_info(self):\n",
    "        '''\n",
    "        Devuelve info de la tienda de su nombre y dirección\n",
    "\n",
    "        Returns:\n",
    "            str\n",
    "        '''\n",
    "        # print(self.nombre + \" \" + self.direccion)\n",
    "        return self.nombre + \" \" + self.direccion\n",
    "\n",
    "    def ult_ventas(self):\n",
    "        '''\n",
    "        Devuelve el último mes de ventas\n",
    "\n",
    "        Returns:\n",
    "            float\n",
    "        '''\n",
    "        return self.ventas_3m[-1]\n",
    "    \n",
    "    # def proyeccion_ventas(self, inversion):\n",
    "    #     self.ventas_3m = [x * 1.2 if inversion < 1000 else x * 1.5 for x in self.ventas_3m]\n",
    "    #     return self.ventas_3m\n",
    "    \n",
    "    def proyeccion_ventas(self, inversion:float):\n",
    "        '''\n",
    "        Calcula las ventas proyectadas en función a la inversión en marketing\n",
    "\n",
    "        Args:\n",
    "            inversion (float): Inversión de marketing\n",
    "\n",
    "        Returns:\n",
    "            list\n",
    "        '''\n",
    "        if self.act:\n",
    "            return self.ventas_3m\n",
    "        elif inversion < 1000:\n",
    "            self.ventas_3m = [x * 1.2 for x in self.ventas_3m]\n",
    "            self.act = True\n",
    "        else:\n",
    "            self.ventas_3m = [x * 1.5 for x in self.ventas_3m]\n",
    "            self.act = True\n",
    "        return self.ventas_3m"
   ]
  },
  {
   "cell_type": "code",
   "execution_count": 13,
   "metadata": {},
   "outputs": [
    {
     "name": "stdout",
     "output_type": "stream",
     "text": [
      "Nombre_1 Recoletos\n",
      "Hola mundo\n"
     ]
    }
   ],
   "source": [
    "tienda_1 = Tienda(\"Nombre_1\", \"Recoletos\", 5, [10,8,12])"
   ]
  },
  {
   "cell_type": "code",
   "execution_count": 47,
   "metadata": {},
   "outputs": [
    {
     "name": "stdout",
     "output_type": "stream",
     "text": [
      "30\n",
      "6.0\n",
      "Nombre_1 Recoletos\n",
      "12\n",
      "[10, 8, 12]\n",
      "[15.0, 12.0, 18.0]\n",
      "[15.0, 12.0, 18.0]\n",
      "electrodomésticos\n",
      "True\n",
      "Nombre_1\n",
      "Recoletos\n",
      "5\n",
      "[15.0, 12.0, 18.0]\n",
      "True\n"
     ]
    }
   ],
   "source": [
    "tienda_1 = Tienda(\"Nombre_1\", \"Recoletos\", 5, [10,8,12])\n",
    "print(tienda_1.total_ventas())\n",
    "print(tienda_1.media_ventas())\n",
    "print(tienda_1.print_info())\n",
    "print(tienda_1.ult_ventas())\n",
    "print(tienda_1.ventas_3m)\n",
    "print(tienda_1.proyeccion_ventas(1200))\n",
    "print(tienda_1.ventas_3m)\n",
    "print(tienda_1.tipo)\n",
    "print(tienda_1.abierta)\n",
    "print(tienda_1.nombre)\n",
    "print(tienda_1.direccion)\n",
    "print(tienda_1.n_emp)\n",
    "print(tienda_1.ventas_3m)\n",
    "print(tienda_1.act)"
   ]
  },
  {
   "cell_type": "code",
   "execution_count": 45,
   "metadata": {},
   "outputs": [
    {
     "name": "stdout",
     "output_type": "stream",
     "text": [
      "[15.0, 12.0, 18.0]\n"
     ]
    }
   ],
   "source": [
    "print(tienda_1.proyeccion_ventas(1200))"
   ]
  },
  {
   "cell_type": "code",
   "execution_count": 63,
   "metadata": {},
   "outputs": [],
   "source": [
    "tienda_1 = Tienda(\"Nombre_1\", \"Recoletos\", 5, [10,8,12])\n",
    "tienda_2 = Tienda(\"Nombre_2\", \"Avenida Sol\",10, [17,2,11])\n",
    "tienda_3 = Tienda(\"Nombre_3\", \"Avenida X\", 8, [6,9,12])"
   ]
  },
  {
   "cell_type": "code",
   "execution_count": 54,
   "metadata": {},
   "outputs": [
    {
     "name": "stdout",
     "output_type": "stream",
     "text": [
      "35\n"
     ]
    }
   ],
   "source": [
    "lista_tiendas = [tienda_1, tienda_2, tienda_3]\n",
    "\n",
    "sum = 0\n",
    "for tienda in lista_tiendas:\n",
    "    sum = sum + tienda.ult_ventas()\n",
    "\n",
    "print(sum)"
   ]
  },
  {
   "cell_type": "code",
   "execution_count": 64,
   "metadata": {},
   "outputs": [
    {
     "name": "stdout",
     "output_type": "stream",
     "text": [
      "Nombre_2 Avenida Sol\n",
      "Nombre_3 Avenida X\n"
     ]
    }
   ],
   "source": [
    "lista_tiendas = [tienda_1, tienda_2, tienda_3]\n",
    "\n",
    "for tienda in lista_tiendas:\n",
    "    if \"avenida\" in tienda.direccion.lower():\n",
    "        print(tienda.print_info())"
   ]
  },
  {
   "cell_type": "code",
   "execution_count": 67,
   "metadata": {},
   "outputs": [
    {
     "name": "stdout",
     "output_type": "stream",
     "text": [
      "\n",
      "    Clase tienda para empresa de electrodoméstico\n",
      "\n",
      "    Attributes:\n",
      "        tipo (str): tipo de producto de ventas\n",
      "        abierta (bool): indica si está abierta o en mantenimiento\n",
      "\n",
      "    \n"
     ]
    }
   ],
   "source": [
    "print(Tienda.__doc__)"
   ]
  },
  {
   "cell_type": "code",
   "execution_count": 68,
   "metadata": {},
   "outputs": [
    {
     "name": "stdout",
     "output_type": "stream",
     "text": [
      "\n",
      "        Atributos particulares a cada tienda\n",
      "        Args:\n",
      "            nombre (str): Nombre de la tienda\n",
      "            direccion (str): Dirección de la tienda\n",
      "            n_emp (int): Número de empleados en la tienda\n",
      "            ventas_3m (list): Lista de las ventas de los últimos 3 meses\n",
      "            act (bool): Bandera para controlar si la proyección de ventas ha sido actualizada.\n",
      "\n",
      "        \n"
     ]
    }
   ],
   "source": [
    "print(Tienda.__init__.__doc__)"
   ]
  },
  {
   "cell_type": "code",
   "execution_count": 69,
   "metadata": {},
   "outputs": [
    {
     "name": "stdout",
     "output_type": "stream",
     "text": [
      "\n",
      "        Calcula las ventas proyectadas en función a la inversión en marketing\n",
      "\n",
      "        Args:\n",
      "            inversion (float): Inversión de marketing\n",
      "\n",
      "        Returns:\n",
      "            list\n",
      "        \n"
     ]
    }
   ],
   "source": [
    "print(Tienda.proyeccion_ventas.__doc__)"
   ]
  },
  {
   "cell_type": "markdown",
   "metadata": {},
   "source": [
    "## Ejercicio 2\n",
    "En este ejercicio vamos a implementar una clase *Perro* en Python. La clase tiene las siguientes características:\n",
    "* Cosas que sabemos seguro que tiene un perro\n",
    "    * Tiene 4 patas\n",
    "    * 2 orejas\n",
    "    * 2 ojos\n",
    "    * Una velocidad de 0. Por defecto, el perro está parado\n",
    "* Cuando se inicialice:\n",
    "    * El perro será de una determinada raza\n",
    "    * Por defecto tendrá pelo \"Marrón\", a no ser que se diga lo contrario.\n",
    "    * Por defecto no tendrá dueño, a no ser que se diga lo contrario.\n",
    "    \n",
    "* Dispondrá también de un método llamado andar, que tiene un argumento de entrada (aumento_velocidad). Este valor se le sumará a la velocidad que ya llevaba el perro.\n",
    "* Necesita otro método (parar), donde pondremos la velocidad a 0.\n",
    "* Otro método llamado \"ladrar\", que tendrá un argumento de entrada, y la salida será el siguiente string: \"GUAU!\" + el argumento de entrada.\n",
    "\n",
    "\n",
    "Se pide:\n",
    "* Implementa la clase *Perro*\n",
    "* Crea un objeto de tipo *Perro*, sin dueño\n",
    "* Comprueba que están bien todos sus atributos\n",
    "* Prueba que ande, y comprueba su velocidad\n",
    "* Páralo\n",
    "* Documenta la clase *Perro*"
   ]
  },
  {
   "cell_type": "code",
   "execution_count": 103,
   "metadata": {},
   "outputs": [],
   "source": [
    "class Perro:\n",
    "    \"\"\"\n",
    "    Clase perro para empresa veterinaria\n",
    "\n",
    "    Attributes:\n",
    "        patas (int): número de patas del animal\n",
    "        ojos (int): número de ojos del animal\n",
    "        orejas (int): número de orejas del animal\n",
    "        velocidad (float): velocidad del animal\n",
    "\n",
    "    \"\"\"\n",
    "\n",
    "    patas = 4\n",
    "    ojos = 2\n",
    "    orejas = 2\n",
    "    velocidad = 0\n",
    "\n",
    "    def __init__(self, raza:str, pelo:str = \"Marrón\", dueño:bool = False):\n",
    "        \"\"\"\n",
    "        Atributos particulares a cada perro\n",
    "        Args:\n",
    "            raza (str): Nombre de la raza del perro\n",
    "            pelo (str): Color del pelo del perro\n",
    "            dueño (bool): Indica si el perro tiene dueño\n",
    "\n",
    "        \"\"\"\n",
    "        self.raza = raza\n",
    "        self.pelo = pelo\n",
    "        self.dueño = dueño\n",
    "\n",
    "    def andar(self, aumento_velocidad:float):\n",
    "        '''\n",
    "        Aumenta la velocidad del perro andando\n",
    "\n",
    "        Args:\n",
    "            aumento_velocidad (float): aumento de la velocidad andando\n",
    "\n",
    "        Returns:\n",
    "            float\n",
    "        '''\n",
    "        self.velocidad = self.velocidad + aumento_velocidad\n",
    "        return self.velocidad\n",
    "    \n",
    "    def parar(self):\n",
    "        '''\n",
    "        Detiene al perro andando\n",
    "\n",
    "        Returns:\n",
    "            0\n",
    "        '''\n",
    "        self.velocidad = 0\n",
    "        return self.velocidad\n",
    "    \n",
    "    def ladrar(self, mensaje:str):\n",
    "        '''\n",
    "        Ladra un mensaje\n",
    "\n",
    "        Args:\n",
    "            mensaje (str): mensaje que ladra el perro\n",
    "\n",
    "        Returns:\n",
    "            str\n",
    "        '''\n",
    "        return \"GUAU! \" + mensaje\n"
   ]
  },
  {
   "cell_type": "code",
   "execution_count": 95,
   "metadata": {},
   "outputs": [
    {
     "name": "stdout",
     "output_type": "stream",
     "text": [
      "False\n",
      "0\n",
      "5\n",
      "5\n",
      "0\n",
      "0\n",
      "GUAU! Bienvenidos a Python\n"
     ]
    }
   ],
   "source": [
    "perro_1 = Perro(\"Border Collie\")\n",
    "print(perro_1.dueño)\n",
    "print(perro_1.velocidad)\n",
    "print(perro_1.andar(5))\n",
    "print(perro_1.velocidad)\n",
    "print(perro_1.parar())\n",
    "print(perro_1.velocidad)\n",
    "print(perro_1.ladrar(\"Bienvenidos a Python\"))"
   ]
  },
  {
   "cell_type": "code",
   "execution_count": 89,
   "metadata": {},
   "outputs": [
    {
     "name": "stdout",
     "output_type": "stream",
     "text": [
      "4\n",
      "2\n",
      "2\n",
      "0\n",
      "Border Collie\n",
      "False\n",
      "Marrón\n"
     ]
    }
   ],
   "source": [
    "perro_1 = Perro(\"Border Collie\")\n",
    "print(perro_1.patas)\n",
    "print(perro_1.ojos)\n",
    "print(perro_1.orejas)\n",
    "print(perro_1.velocidad)\n",
    "print(perro_1.raza)\n",
    "print(perro_1.dueño)\n",
    "print(perro_1.pelo)"
   ]
  },
  {
   "cell_type": "code",
   "execution_count": 90,
   "metadata": {},
   "outputs": [
    {
     "name": "stdout",
     "output_type": "stream",
     "text": [
      "{'raza': 'Border Collie', 'pelo': 'Marrón', 'dueño': False}\n"
     ]
    }
   ],
   "source": [
    "print(perro_1.__dict__)"
   ]
  },
  {
   "cell_type": "code",
   "execution_count": 97,
   "metadata": {},
   "outputs": [
    {
     "name": "stdout",
     "output_type": "stream",
     "text": [
      "\n",
      "    Clase perro para empresa veterinaria\n",
      "\n",
      "    Attributes:\n",
      "        patas (int): número de patas del animal\n",
      "        ojos (int): número de ojos del animal\n",
      "        orejas (int): número de orejas del animal\n",
      "        velocidad (float): velocidad del animal\n",
      "\n",
      "    \n",
      "\n",
      "        Atributos particulares a cada perro\n",
      "        Args:\n",
      "            raza (str): Nombre de la raza del perro\n",
      "            pelo (str): Color del pelo del perro\n",
      "            dueño (bool): Indica si el perro tiene dueño\n",
      "\n",
      "        \n",
      "\n",
      "        Aumenta la velocidad del perro andando\n",
      "\n",
      "        Args:\n",
      "            aumento_velocidad (float): aumento de la velocidad andando\n",
      "\n",
      "        Returns:\n",
      "            float\n",
      "        \n"
     ]
    }
   ],
   "source": [
    "print(perro_1.__doc__)\n",
    "print(perro_1.__init__.__doc__)\n",
    "print(perro_1.andar.__doc__)"
   ]
  }
 ],
 "metadata": {
  "kernelspec": {
   "display_name": "Python 3.7.4 64-bit",
   "language": "python",
   "name": "python3"
  },
  "language_info": {
   "codemirror_mode": {
    "name": "ipython",
    "version": 3
   },
   "file_extension": ".py",
   "mimetype": "text/x-python",
   "name": "python",
   "nbconvert_exporter": "python",
   "pygments_lexer": "ipython3",
   "version": "3.7.4"
  },
  "vscode": {
   "interpreter": {
    "hash": "90139cb9a825bf3d63f6f6704e828dbd1ff7edbd4d0c6e906a71235d6efc74af"
   }
  }
 },
 "nbformat": 4,
 "nbformat_minor": 4
}
